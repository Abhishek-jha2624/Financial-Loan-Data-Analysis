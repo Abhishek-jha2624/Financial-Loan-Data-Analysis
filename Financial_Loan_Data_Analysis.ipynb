{
  "nbformat": 4,
  "nbformat_minor": 0,
  "metadata": {
    "colab": {
      "provenance": []
    },
    "kernelspec": {
      "name": "python3",
      "display_name": "Python 3"
    },
    "language_info": {
      "name": "python"
    }
  },
  "cells": [
    {
      "cell_type": "markdown",
      "source": [
        "Financial Loan Analysis"
      ],
      "metadata": {
        "id": "eHO9OFer0DWY"
      }
    },
    {
      "cell_type": "markdown",
      "source": [
        "Importing libraries"
      ],
      "metadata": {
        "id": "NAiDcPXu0jy-"
      }
    },
    {
      "cell_type": "code",
      "execution_count": 1,
      "metadata": {
        "id": "FGcktkQdtrGO"
      },
      "outputs": [],
      "source": [
        "import pandas as pd\n",
        "import numpy as np\n",
        "import matplotlib.pyplot as plt\n",
        "import seaborn as sns\n",
        "import warnings\n",
        "import plotly.express as px"
      ]
    },
    {
      "cell_type": "markdown",
      "source": [
        "Importing Data"
      ],
      "metadata": {
        "id": "GG89VK2pKESF"
      }
    },
    {
      "cell_type": "code",
      "source": [
        "df = pd.read_excel(\"financial_loan.xlsx\")"
      ],
      "metadata": {
        "id": "pw63RitqKn53"
      },
      "execution_count": 2,
      "outputs": []
    },
    {
      "cell_type": "markdown",
      "source": [
        "Data visualization"
      ],
      "metadata": {
        "id": "tTXStOCdK6fM"
      }
    },
    {
      "cell_type": "code",
      "source": [
        "df.head()"
      ],
      "metadata": {
        "id": "lm8j-glVK_jt",
        "colab": {
          "base_uri": "https://localhost:8080/",
          "height": 359
        },
        "outputId": "4e5c2689-ec54-442f-8a33-335aeeea0128"
      },
      "execution_count": 3,
      "outputs": [
        {
          "output_type": "execute_result",
          "data": {
            "text/plain": [
              "        id address_state application_type emp_length              emp_title  \\\n",
              "0  1077430            GA       INDIVIDUAL   < 1 year                  Ryder   \n",
              "1  1072053            CA       INDIVIDUAL    9 years         MKC Accounting   \n",
              "2  1069243            CA       INDIVIDUAL    4 years  Chemat Technology Inc   \n",
              "3  1041756            TX       INDIVIDUAL   < 1 year    barnes distribution   \n",
              "4  1068350            IL       INDIVIDUAL  10+ years          J&J Steel Inc   \n",
              "\n",
              "  grade home_ownership issue_date last_credit_pull_date last_payment_date  \\\n",
              "0     C           RENT 2021-02-11            2021-09-13        2021-04-13   \n",
              "1     E           RENT 2021-01-01            2021-12-14        2021-01-15   \n",
              "2     C           RENT 2021-01-05            2021-12-12        2021-01-09   \n",
              "3     B       MORTGAGE 2021-02-25            2021-12-12        2021-03-12   \n",
              "4     A       MORTGAGE 2021-01-01            2021-12-14        2021-01-15   \n",
              "\n",
              "   ... sub_grade        term  verification_status annual_income     dti  \\\n",
              "0  ...        C4   60 months      Source Verified       30000.0  0.0100   \n",
              "1  ...        E1   36 months      Source Verified       48000.0  0.0535   \n",
              "2  ...        C5   36 months         Not Verified       50000.0  0.2088   \n",
              "3  ...        B2   60 months      Source Verified       42000.0  0.0540   \n",
              "4  ...        A1   36 months             Verified       83000.0  0.0231   \n",
              "\n",
              "  installment int_rate  loan_amount  total_acc  total_payment  \n",
              "0       59.83   0.1527         2500          4           1009  \n",
              "1      109.43   0.1864         3000          4           3939  \n",
              "2      421.65   0.1596        12000         11           3522  \n",
              "3       97.06   0.1065         4500          9           4911  \n",
              "4      106.53   0.0603         3500         28           3835  \n",
              "\n",
              "[5 rows x 24 columns]"
            ],
            "text/html": [
              "\n",
              "  <div id=\"df-43af98e4-4eb2-4285-89fe-d6632124d362\" class=\"colab-df-container\">\n",
              "    <div>\n",
              "<style scoped>\n",
              "    .dataframe tbody tr th:only-of-type {\n",
              "        vertical-align: middle;\n",
              "    }\n",
              "\n",
              "    .dataframe tbody tr th {\n",
              "        vertical-align: top;\n",
              "    }\n",
              "\n",
              "    .dataframe thead th {\n",
              "        text-align: right;\n",
              "    }\n",
              "</style>\n",
              "<table border=\"1\" class=\"dataframe\">\n",
              "  <thead>\n",
              "    <tr style=\"text-align: right;\">\n",
              "      <th></th>\n",
              "      <th>id</th>\n",
              "      <th>address_state</th>\n",
              "      <th>application_type</th>\n",
              "      <th>emp_length</th>\n",
              "      <th>emp_title</th>\n",
              "      <th>grade</th>\n",
              "      <th>home_ownership</th>\n",
              "      <th>issue_date</th>\n",
              "      <th>last_credit_pull_date</th>\n",
              "      <th>last_payment_date</th>\n",
              "      <th>...</th>\n",
              "      <th>sub_grade</th>\n",
              "      <th>term</th>\n",
              "      <th>verification_status</th>\n",
              "      <th>annual_income</th>\n",
              "      <th>dti</th>\n",
              "      <th>installment</th>\n",
              "      <th>int_rate</th>\n",
              "      <th>loan_amount</th>\n",
              "      <th>total_acc</th>\n",
              "      <th>total_payment</th>\n",
              "    </tr>\n",
              "  </thead>\n",
              "  <tbody>\n",
              "    <tr>\n",
              "      <th>0</th>\n",
              "      <td>1077430</td>\n",
              "      <td>GA</td>\n",
              "      <td>INDIVIDUAL</td>\n",
              "      <td>&lt; 1 year</td>\n",
              "      <td>Ryder</td>\n",
              "      <td>C</td>\n",
              "      <td>RENT</td>\n",
              "      <td>2021-02-11</td>\n",
              "      <td>2021-09-13</td>\n",
              "      <td>2021-04-13</td>\n",
              "      <td>...</td>\n",
              "      <td>C4</td>\n",
              "      <td>60 months</td>\n",
              "      <td>Source Verified</td>\n",
              "      <td>30000.0</td>\n",
              "      <td>0.0100</td>\n",
              "      <td>59.83</td>\n",
              "      <td>0.1527</td>\n",
              "      <td>2500</td>\n",
              "      <td>4</td>\n",
              "      <td>1009</td>\n",
              "    </tr>\n",
              "    <tr>\n",
              "      <th>1</th>\n",
              "      <td>1072053</td>\n",
              "      <td>CA</td>\n",
              "      <td>INDIVIDUAL</td>\n",
              "      <td>9 years</td>\n",
              "      <td>MKC Accounting</td>\n",
              "      <td>E</td>\n",
              "      <td>RENT</td>\n",
              "      <td>2021-01-01</td>\n",
              "      <td>2021-12-14</td>\n",
              "      <td>2021-01-15</td>\n",
              "      <td>...</td>\n",
              "      <td>E1</td>\n",
              "      <td>36 months</td>\n",
              "      <td>Source Verified</td>\n",
              "      <td>48000.0</td>\n",
              "      <td>0.0535</td>\n",
              "      <td>109.43</td>\n",
              "      <td>0.1864</td>\n",
              "      <td>3000</td>\n",
              "      <td>4</td>\n",
              "      <td>3939</td>\n",
              "    </tr>\n",
              "    <tr>\n",
              "      <th>2</th>\n",
              "      <td>1069243</td>\n",
              "      <td>CA</td>\n",
              "      <td>INDIVIDUAL</td>\n",
              "      <td>4 years</td>\n",
              "      <td>Chemat Technology Inc</td>\n",
              "      <td>C</td>\n",
              "      <td>RENT</td>\n",
              "      <td>2021-01-05</td>\n",
              "      <td>2021-12-12</td>\n",
              "      <td>2021-01-09</td>\n",
              "      <td>...</td>\n",
              "      <td>C5</td>\n",
              "      <td>36 months</td>\n",
              "      <td>Not Verified</td>\n",
              "      <td>50000.0</td>\n",
              "      <td>0.2088</td>\n",
              "      <td>421.65</td>\n",
              "      <td>0.1596</td>\n",
              "      <td>12000</td>\n",
              "      <td>11</td>\n",
              "      <td>3522</td>\n",
              "    </tr>\n",
              "    <tr>\n",
              "      <th>3</th>\n",
              "      <td>1041756</td>\n",
              "      <td>TX</td>\n",
              "      <td>INDIVIDUAL</td>\n",
              "      <td>&lt; 1 year</td>\n",
              "      <td>barnes distribution</td>\n",
              "      <td>B</td>\n",
              "      <td>MORTGAGE</td>\n",
              "      <td>2021-02-25</td>\n",
              "      <td>2021-12-12</td>\n",
              "      <td>2021-03-12</td>\n",
              "      <td>...</td>\n",
              "      <td>B2</td>\n",
              "      <td>60 months</td>\n",
              "      <td>Source Verified</td>\n",
              "      <td>42000.0</td>\n",
              "      <td>0.0540</td>\n",
              "      <td>97.06</td>\n",
              "      <td>0.1065</td>\n",
              "      <td>4500</td>\n",
              "      <td>9</td>\n",
              "      <td>4911</td>\n",
              "    </tr>\n",
              "    <tr>\n",
              "      <th>4</th>\n",
              "      <td>1068350</td>\n",
              "      <td>IL</td>\n",
              "      <td>INDIVIDUAL</td>\n",
              "      <td>10+ years</td>\n",
              "      <td>J&amp;J Steel Inc</td>\n",
              "      <td>A</td>\n",
              "      <td>MORTGAGE</td>\n",
              "      <td>2021-01-01</td>\n",
              "      <td>2021-12-14</td>\n",
              "      <td>2021-01-15</td>\n",
              "      <td>...</td>\n",
              "      <td>A1</td>\n",
              "      <td>36 months</td>\n",
              "      <td>Verified</td>\n",
              "      <td>83000.0</td>\n",
              "      <td>0.0231</td>\n",
              "      <td>106.53</td>\n",
              "      <td>0.0603</td>\n",
              "      <td>3500</td>\n",
              "      <td>28</td>\n",
              "      <td>3835</td>\n",
              "    </tr>\n",
              "  </tbody>\n",
              "</table>\n",
              "<p>5 rows × 24 columns</p>\n",
              "</div>\n",
              "    <div class=\"colab-df-buttons\">\n",
              "\n",
              "  <div class=\"colab-df-container\">\n",
              "    <button class=\"colab-df-convert\" onclick=\"convertToInteractive('df-43af98e4-4eb2-4285-89fe-d6632124d362')\"\n",
              "            title=\"Convert this dataframe to an interactive table.\"\n",
              "            style=\"display:none;\">\n",
              "\n",
              "  <svg xmlns=\"http://www.w3.org/2000/svg\" height=\"24px\" viewBox=\"0 -960 960 960\">\n",
              "    <path d=\"M120-120v-720h720v720H120Zm60-500h600v-160H180v160Zm220 220h160v-160H400v160Zm0 220h160v-160H400v160ZM180-400h160v-160H180v160Zm440 0h160v-160H620v160ZM180-180h160v-160H180v160Zm440 0h160v-160H620v160Z\"/>\n",
              "  </svg>\n",
              "    </button>\n",
              "\n",
              "  <style>\n",
              "    .colab-df-container {\n",
              "      display:flex;\n",
              "      gap: 12px;\n",
              "    }\n",
              "\n",
              "    .colab-df-convert {\n",
              "      background-color: #E8F0FE;\n",
              "      border: none;\n",
              "      border-radius: 50%;\n",
              "      cursor: pointer;\n",
              "      display: none;\n",
              "      fill: #1967D2;\n",
              "      height: 32px;\n",
              "      padding: 0 0 0 0;\n",
              "      width: 32px;\n",
              "    }\n",
              "\n",
              "    .colab-df-convert:hover {\n",
              "      background-color: #E2EBFA;\n",
              "      box-shadow: 0px 1px 2px rgba(60, 64, 67, 0.3), 0px 1px 3px 1px rgba(60, 64, 67, 0.15);\n",
              "      fill: #174EA6;\n",
              "    }\n",
              "\n",
              "    .colab-df-buttons div {\n",
              "      margin-bottom: 4px;\n",
              "    }\n",
              "\n",
              "    [theme=dark] .colab-df-convert {\n",
              "      background-color: #3B4455;\n",
              "      fill: #D2E3FC;\n",
              "    }\n",
              "\n",
              "    [theme=dark] .colab-df-convert:hover {\n",
              "      background-color: #434B5C;\n",
              "      box-shadow: 0px 1px 3px 1px rgba(0, 0, 0, 0.15);\n",
              "      filter: drop-shadow(0px 1px 2px rgba(0, 0, 0, 0.3));\n",
              "      fill: #FFFFFF;\n",
              "    }\n",
              "  </style>\n",
              "\n",
              "    <script>\n",
              "      const buttonEl =\n",
              "        document.querySelector('#df-43af98e4-4eb2-4285-89fe-d6632124d362 button.colab-df-convert');\n",
              "      buttonEl.style.display =\n",
              "        google.colab.kernel.accessAllowed ? 'block' : 'none';\n",
              "\n",
              "      async function convertToInteractive(key) {\n",
              "        const element = document.querySelector('#df-43af98e4-4eb2-4285-89fe-d6632124d362');\n",
              "        const dataTable =\n",
              "          await google.colab.kernel.invokeFunction('convertToInteractive',\n",
              "                                                    [key], {});\n",
              "        if (!dataTable) return;\n",
              "\n",
              "        const docLinkHtml = 'Like what you see? Visit the ' +\n",
              "          '<a target=\"_blank\" href=https://colab.research.google.com/notebooks/data_table.ipynb>data table notebook</a>'\n",
              "          + ' to learn more about interactive tables.';\n",
              "        element.innerHTML = '';\n",
              "        dataTable['output_type'] = 'display_data';\n",
              "        await google.colab.output.renderOutput(dataTable, element);\n",
              "        const docLink = document.createElement('div');\n",
              "        docLink.innerHTML = docLinkHtml;\n",
              "        element.appendChild(docLink);\n",
              "      }\n",
              "    </script>\n",
              "  </div>\n",
              "\n",
              "\n",
              "    <div id=\"df-ceb8be3f-d633-434b-8854-c3b25e5d9dc0\">\n",
              "      <button class=\"colab-df-quickchart\" onclick=\"quickchart('df-ceb8be3f-d633-434b-8854-c3b25e5d9dc0')\"\n",
              "                title=\"Suggest charts\"\n",
              "                style=\"display:none;\">\n",
              "\n",
              "<svg xmlns=\"http://www.w3.org/2000/svg\" height=\"24px\"viewBox=\"0 0 24 24\"\n",
              "     width=\"24px\">\n",
              "    <g>\n",
              "        <path d=\"M19 3H5c-1.1 0-2 .9-2 2v14c0 1.1.9 2 2 2h14c1.1 0 2-.9 2-2V5c0-1.1-.9-2-2-2zM9 17H7v-7h2v7zm4 0h-2V7h2v10zm4 0h-2v-4h2v4z\"/>\n",
              "    </g>\n",
              "</svg>\n",
              "      </button>\n",
              "\n",
              "<style>\n",
              "  .colab-df-quickchart {\n",
              "      --bg-color: #E8F0FE;\n",
              "      --fill-color: #1967D2;\n",
              "      --hover-bg-color: #E2EBFA;\n",
              "      --hover-fill-color: #174EA6;\n",
              "      --disabled-fill-color: #AAA;\n",
              "      --disabled-bg-color: #DDD;\n",
              "  }\n",
              "\n",
              "  [theme=dark] .colab-df-quickchart {\n",
              "      --bg-color: #3B4455;\n",
              "      --fill-color: #D2E3FC;\n",
              "      --hover-bg-color: #434B5C;\n",
              "      --hover-fill-color: #FFFFFF;\n",
              "      --disabled-bg-color: #3B4455;\n",
              "      --disabled-fill-color: #666;\n",
              "  }\n",
              "\n",
              "  .colab-df-quickchart {\n",
              "    background-color: var(--bg-color);\n",
              "    border: none;\n",
              "    border-radius: 50%;\n",
              "    cursor: pointer;\n",
              "    display: none;\n",
              "    fill: var(--fill-color);\n",
              "    height: 32px;\n",
              "    padding: 0;\n",
              "    width: 32px;\n",
              "  }\n",
              "\n",
              "  .colab-df-quickchart:hover {\n",
              "    background-color: var(--hover-bg-color);\n",
              "    box-shadow: 0 1px 2px rgba(60, 64, 67, 0.3), 0 1px 3px 1px rgba(60, 64, 67, 0.15);\n",
              "    fill: var(--button-hover-fill-color);\n",
              "  }\n",
              "\n",
              "  .colab-df-quickchart-complete:disabled,\n",
              "  .colab-df-quickchart-complete:disabled:hover {\n",
              "    background-color: var(--disabled-bg-color);\n",
              "    fill: var(--disabled-fill-color);\n",
              "    box-shadow: none;\n",
              "  }\n",
              "\n",
              "  .colab-df-spinner {\n",
              "    border: 2px solid var(--fill-color);\n",
              "    border-color: transparent;\n",
              "    border-bottom-color: var(--fill-color);\n",
              "    animation:\n",
              "      spin 1s steps(1) infinite;\n",
              "  }\n",
              "\n",
              "  @keyframes spin {\n",
              "    0% {\n",
              "      border-color: transparent;\n",
              "      border-bottom-color: var(--fill-color);\n",
              "      border-left-color: var(--fill-color);\n",
              "    }\n",
              "    20% {\n",
              "      border-color: transparent;\n",
              "      border-left-color: var(--fill-color);\n",
              "      border-top-color: var(--fill-color);\n",
              "    }\n",
              "    30% {\n",
              "      border-color: transparent;\n",
              "      border-left-color: var(--fill-color);\n",
              "      border-top-color: var(--fill-color);\n",
              "      border-right-color: var(--fill-color);\n",
              "    }\n",
              "    40% {\n",
              "      border-color: transparent;\n",
              "      border-right-color: var(--fill-color);\n",
              "      border-top-color: var(--fill-color);\n",
              "    }\n",
              "    60% {\n",
              "      border-color: transparent;\n",
              "      border-right-color: var(--fill-color);\n",
              "    }\n",
              "    80% {\n",
              "      border-color: transparent;\n",
              "      border-right-color: var(--fill-color);\n",
              "      border-bottom-color: var(--fill-color);\n",
              "    }\n",
              "    90% {\n",
              "      border-color: transparent;\n",
              "      border-bottom-color: var(--fill-color);\n",
              "    }\n",
              "  }\n",
              "</style>\n",
              "\n",
              "      <script>\n",
              "        async function quickchart(key) {\n",
              "          const quickchartButtonEl =\n",
              "            document.querySelector('#' + key + ' button');\n",
              "          quickchartButtonEl.disabled = true;  // To prevent multiple clicks.\n",
              "          quickchartButtonEl.classList.add('colab-df-spinner');\n",
              "          try {\n",
              "            const charts = await google.colab.kernel.invokeFunction(\n",
              "                'suggestCharts', [key], {});\n",
              "          } catch (error) {\n",
              "            console.error('Error during call to suggestCharts:', error);\n",
              "          }\n",
              "          quickchartButtonEl.classList.remove('colab-df-spinner');\n",
              "          quickchartButtonEl.classList.add('colab-df-quickchart-complete');\n",
              "        }\n",
              "        (() => {\n",
              "          let quickchartButtonEl =\n",
              "            document.querySelector('#df-ceb8be3f-d633-434b-8854-c3b25e5d9dc0 button');\n",
              "          quickchartButtonEl.style.display =\n",
              "            google.colab.kernel.accessAllowed ? 'block' : 'none';\n",
              "        })();\n",
              "      </script>\n",
              "    </div>\n",
              "\n",
              "    </div>\n",
              "  </div>\n"
            ],
            "application/vnd.google.colaboratory.intrinsic+json": {
              "type": "dataframe",
              "variable_name": "df"
            }
          },
          "metadata": {},
          "execution_count": 3
        }
      ]
    },
    {
      "cell_type": "code",
      "source": [
        "df.tail()"
      ],
      "metadata": {
        "id": "T9x4dHUWLCA5",
        "colab": {
          "base_uri": "https://localhost:8080/",
          "height": 394
        },
        "outputId": "6cc61773-b86c-44ce-b04e-e1fc160d3de4"
      },
      "execution_count": 4,
      "outputs": [
        {
          "output_type": "execute_result",
          "data": {
            "text/plain": [
              "           id address_state application_type emp_length  \\\n",
              "38571  803452            NJ       INDIVIDUAL   < 1 year   \n",
              "38572  970377            NY       INDIVIDUAL    8 years   \n",
              "38573  875376            CA       INDIVIDUAL    5 years   \n",
              "38574  972997            NY       INDIVIDUAL    5 years   \n",
              "38575  682952            NY       INDIVIDUAL    4 years   \n",
              "\n",
              "                             emp_title grade home_ownership issue_date  \\\n",
              "38571         Joseph M Sanzari Company     C       MORTGAGE 2021-07-11   \n",
              "38572                        Swat Fame     C           RENT 2021-10-11   \n",
              "38573  Anaheim Regional Medical Center     D           RENT 2021-09-11   \n",
              "38574               Brooklyn Radiology     D           RENT 2021-10-11   \n",
              "38575                    Allen Edmonds     F           RENT 2021-07-11   \n",
              "\n",
              "      last_credit_pull_date last_payment_date  ... sub_grade        term  \\\n",
              "38571            2021-05-16        2021-05-16  ...        C1   60 months   \n",
              "38572            2021-04-16        2021-05-16  ...        C1   60 months   \n",
              "38573            2021-05-16        2021-05-16  ...        D5   60 months   \n",
              "38574            2021-05-16        2021-05-16  ...        D5   60 months   \n",
              "38575            2021-05-16        2021-05-16  ...        F3   60 months   \n",
              "\n",
              "       verification_status annual_income     dti installment int_rate  \\\n",
              "38571             Verified      100000.0  0.1986      551.64   0.1299   \n",
              "38572             Verified       50000.0  0.0458      579.72   0.1349   \n",
              "38573             Verified       65000.0  0.1734      627.93   0.1749   \n",
              "38574             Verified      368000.0  0.0009      612.72   0.1825   \n",
              "38575             Verified       80000.0  0.0600      486.86   0.2099   \n",
              "\n",
              "       loan_amount  total_acc  total_payment  \n",
              "38571        24250         33          31946  \n",
              "38572        25200         18          31870  \n",
              "38573        25000         20          35721  \n",
              "38574        24000          9          33677  \n",
              "38575        18000          7          27679  \n",
              "\n",
              "[5 rows x 24 columns]"
            ],
            "text/html": [
              "\n",
              "  <div id=\"df-63f83f37-16fa-43ea-bb27-ad8fa6bd40f5\" class=\"colab-df-container\">\n",
              "    <div>\n",
              "<style scoped>\n",
              "    .dataframe tbody tr th:only-of-type {\n",
              "        vertical-align: middle;\n",
              "    }\n",
              "\n",
              "    .dataframe tbody tr th {\n",
              "        vertical-align: top;\n",
              "    }\n",
              "\n",
              "    .dataframe thead th {\n",
              "        text-align: right;\n",
              "    }\n",
              "</style>\n",
              "<table border=\"1\" class=\"dataframe\">\n",
              "  <thead>\n",
              "    <tr style=\"text-align: right;\">\n",
              "      <th></th>\n",
              "      <th>id</th>\n",
              "      <th>address_state</th>\n",
              "      <th>application_type</th>\n",
              "      <th>emp_length</th>\n",
              "      <th>emp_title</th>\n",
              "      <th>grade</th>\n",
              "      <th>home_ownership</th>\n",
              "      <th>issue_date</th>\n",
              "      <th>last_credit_pull_date</th>\n",
              "      <th>last_payment_date</th>\n",
              "      <th>...</th>\n",
              "      <th>sub_grade</th>\n",
              "      <th>term</th>\n",
              "      <th>verification_status</th>\n",
              "      <th>annual_income</th>\n",
              "      <th>dti</th>\n",
              "      <th>installment</th>\n",
              "      <th>int_rate</th>\n",
              "      <th>loan_amount</th>\n",
              "      <th>total_acc</th>\n",
              "      <th>total_payment</th>\n",
              "    </tr>\n",
              "  </thead>\n",
              "  <tbody>\n",
              "    <tr>\n",
              "      <th>38571</th>\n",
              "      <td>803452</td>\n",
              "      <td>NJ</td>\n",
              "      <td>INDIVIDUAL</td>\n",
              "      <td>&lt; 1 year</td>\n",
              "      <td>Joseph M Sanzari Company</td>\n",
              "      <td>C</td>\n",
              "      <td>MORTGAGE</td>\n",
              "      <td>2021-07-11</td>\n",
              "      <td>2021-05-16</td>\n",
              "      <td>2021-05-16</td>\n",
              "      <td>...</td>\n",
              "      <td>C1</td>\n",
              "      <td>60 months</td>\n",
              "      <td>Verified</td>\n",
              "      <td>100000.0</td>\n",
              "      <td>0.1986</td>\n",
              "      <td>551.64</td>\n",
              "      <td>0.1299</td>\n",
              "      <td>24250</td>\n",
              "      <td>33</td>\n",
              "      <td>31946</td>\n",
              "    </tr>\n",
              "    <tr>\n",
              "      <th>38572</th>\n",
              "      <td>970377</td>\n",
              "      <td>NY</td>\n",
              "      <td>INDIVIDUAL</td>\n",
              "      <td>8 years</td>\n",
              "      <td>Swat Fame</td>\n",
              "      <td>C</td>\n",
              "      <td>RENT</td>\n",
              "      <td>2021-10-11</td>\n",
              "      <td>2021-04-16</td>\n",
              "      <td>2021-05-16</td>\n",
              "      <td>...</td>\n",
              "      <td>C1</td>\n",
              "      <td>60 months</td>\n",
              "      <td>Verified</td>\n",
              "      <td>50000.0</td>\n",
              "      <td>0.0458</td>\n",
              "      <td>579.72</td>\n",
              "      <td>0.1349</td>\n",
              "      <td>25200</td>\n",
              "      <td>18</td>\n",
              "      <td>31870</td>\n",
              "    </tr>\n",
              "    <tr>\n",
              "      <th>38573</th>\n",
              "      <td>875376</td>\n",
              "      <td>CA</td>\n",
              "      <td>INDIVIDUAL</td>\n",
              "      <td>5 years</td>\n",
              "      <td>Anaheim Regional Medical Center</td>\n",
              "      <td>D</td>\n",
              "      <td>RENT</td>\n",
              "      <td>2021-09-11</td>\n",
              "      <td>2021-05-16</td>\n",
              "      <td>2021-05-16</td>\n",
              "      <td>...</td>\n",
              "      <td>D5</td>\n",
              "      <td>60 months</td>\n",
              "      <td>Verified</td>\n",
              "      <td>65000.0</td>\n",
              "      <td>0.1734</td>\n",
              "      <td>627.93</td>\n",
              "      <td>0.1749</td>\n",
              "      <td>25000</td>\n",
              "      <td>20</td>\n",
              "      <td>35721</td>\n",
              "    </tr>\n",
              "    <tr>\n",
              "      <th>38574</th>\n",
              "      <td>972997</td>\n",
              "      <td>NY</td>\n",
              "      <td>INDIVIDUAL</td>\n",
              "      <td>5 years</td>\n",
              "      <td>Brooklyn Radiology</td>\n",
              "      <td>D</td>\n",
              "      <td>RENT</td>\n",
              "      <td>2021-10-11</td>\n",
              "      <td>2021-05-16</td>\n",
              "      <td>2021-05-16</td>\n",
              "      <td>...</td>\n",
              "      <td>D5</td>\n",
              "      <td>60 months</td>\n",
              "      <td>Verified</td>\n",
              "      <td>368000.0</td>\n",
              "      <td>0.0009</td>\n",
              "      <td>612.72</td>\n",
              "      <td>0.1825</td>\n",
              "      <td>24000</td>\n",
              "      <td>9</td>\n",
              "      <td>33677</td>\n",
              "    </tr>\n",
              "    <tr>\n",
              "      <th>38575</th>\n",
              "      <td>682952</td>\n",
              "      <td>NY</td>\n",
              "      <td>INDIVIDUAL</td>\n",
              "      <td>4 years</td>\n",
              "      <td>Allen Edmonds</td>\n",
              "      <td>F</td>\n",
              "      <td>RENT</td>\n",
              "      <td>2021-07-11</td>\n",
              "      <td>2021-05-16</td>\n",
              "      <td>2021-05-16</td>\n",
              "      <td>...</td>\n",
              "      <td>F3</td>\n",
              "      <td>60 months</td>\n",
              "      <td>Verified</td>\n",
              "      <td>80000.0</td>\n",
              "      <td>0.0600</td>\n",
              "      <td>486.86</td>\n",
              "      <td>0.2099</td>\n",
              "      <td>18000</td>\n",
              "      <td>7</td>\n",
              "      <td>27679</td>\n",
              "    </tr>\n",
              "  </tbody>\n",
              "</table>\n",
              "<p>5 rows × 24 columns</p>\n",
              "</div>\n",
              "    <div class=\"colab-df-buttons\">\n",
              "\n",
              "  <div class=\"colab-df-container\">\n",
              "    <button class=\"colab-df-convert\" onclick=\"convertToInteractive('df-63f83f37-16fa-43ea-bb27-ad8fa6bd40f5')\"\n",
              "            title=\"Convert this dataframe to an interactive table.\"\n",
              "            style=\"display:none;\">\n",
              "\n",
              "  <svg xmlns=\"http://www.w3.org/2000/svg\" height=\"24px\" viewBox=\"0 -960 960 960\">\n",
              "    <path d=\"M120-120v-720h720v720H120Zm60-500h600v-160H180v160Zm220 220h160v-160H400v160Zm0 220h160v-160H400v160ZM180-400h160v-160H180v160Zm440 0h160v-160H620v160ZM180-180h160v-160H180v160Zm440 0h160v-160H620v160Z\"/>\n",
              "  </svg>\n",
              "    </button>\n",
              "\n",
              "  <style>\n",
              "    .colab-df-container {\n",
              "      display:flex;\n",
              "      gap: 12px;\n",
              "    }\n",
              "\n",
              "    .colab-df-convert {\n",
              "      background-color: #E8F0FE;\n",
              "      border: none;\n",
              "      border-radius: 50%;\n",
              "      cursor: pointer;\n",
              "      display: none;\n",
              "      fill: #1967D2;\n",
              "      height: 32px;\n",
              "      padding: 0 0 0 0;\n",
              "      width: 32px;\n",
              "    }\n",
              "\n",
              "    .colab-df-convert:hover {\n",
              "      background-color: #E2EBFA;\n",
              "      box-shadow: 0px 1px 2px rgba(60, 64, 67, 0.3), 0px 1px 3px 1px rgba(60, 64, 67, 0.15);\n",
              "      fill: #174EA6;\n",
              "    }\n",
              "\n",
              "    .colab-df-buttons div {\n",
              "      margin-bottom: 4px;\n",
              "    }\n",
              "\n",
              "    [theme=dark] .colab-df-convert {\n",
              "      background-color: #3B4455;\n",
              "      fill: #D2E3FC;\n",
              "    }\n",
              "\n",
              "    [theme=dark] .colab-df-convert:hover {\n",
              "      background-color: #434B5C;\n",
              "      box-shadow: 0px 1px 3px 1px rgba(0, 0, 0, 0.15);\n",
              "      filter: drop-shadow(0px 1px 2px rgba(0, 0, 0, 0.3));\n",
              "      fill: #FFFFFF;\n",
              "    }\n",
              "  </style>\n",
              "\n",
              "    <script>\n",
              "      const buttonEl =\n",
              "        document.querySelector('#df-63f83f37-16fa-43ea-bb27-ad8fa6bd40f5 button.colab-df-convert');\n",
              "      buttonEl.style.display =\n",
              "        google.colab.kernel.accessAllowed ? 'block' : 'none';\n",
              "\n",
              "      async function convertToInteractive(key) {\n",
              "        const element = document.querySelector('#df-63f83f37-16fa-43ea-bb27-ad8fa6bd40f5');\n",
              "        const dataTable =\n",
              "          await google.colab.kernel.invokeFunction('convertToInteractive',\n",
              "                                                    [key], {});\n",
              "        if (!dataTable) return;\n",
              "\n",
              "        const docLinkHtml = 'Like what you see? Visit the ' +\n",
              "          '<a target=\"_blank\" href=https://colab.research.google.com/notebooks/data_table.ipynb>data table notebook</a>'\n",
              "          + ' to learn more about interactive tables.';\n",
              "        element.innerHTML = '';\n",
              "        dataTable['output_type'] = 'display_data';\n",
              "        await google.colab.output.renderOutput(dataTable, element);\n",
              "        const docLink = document.createElement('div');\n",
              "        docLink.innerHTML = docLinkHtml;\n",
              "        element.appendChild(docLink);\n",
              "      }\n",
              "    </script>\n",
              "  </div>\n",
              "\n",
              "\n",
              "    <div id=\"df-7bf50977-4b0e-4b26-81f0-ccc1b873d3b0\">\n",
              "      <button class=\"colab-df-quickchart\" onclick=\"quickchart('df-7bf50977-4b0e-4b26-81f0-ccc1b873d3b0')\"\n",
              "                title=\"Suggest charts\"\n",
              "                style=\"display:none;\">\n",
              "\n",
              "<svg xmlns=\"http://www.w3.org/2000/svg\" height=\"24px\"viewBox=\"0 0 24 24\"\n",
              "     width=\"24px\">\n",
              "    <g>\n",
              "        <path d=\"M19 3H5c-1.1 0-2 .9-2 2v14c0 1.1.9 2 2 2h14c1.1 0 2-.9 2-2V5c0-1.1-.9-2-2-2zM9 17H7v-7h2v7zm4 0h-2V7h2v10zm4 0h-2v-4h2v4z\"/>\n",
              "    </g>\n",
              "</svg>\n",
              "      </button>\n",
              "\n",
              "<style>\n",
              "  .colab-df-quickchart {\n",
              "      --bg-color: #E8F0FE;\n",
              "      --fill-color: #1967D2;\n",
              "      --hover-bg-color: #E2EBFA;\n",
              "      --hover-fill-color: #174EA6;\n",
              "      --disabled-fill-color: #AAA;\n",
              "      --disabled-bg-color: #DDD;\n",
              "  }\n",
              "\n",
              "  [theme=dark] .colab-df-quickchart {\n",
              "      --bg-color: #3B4455;\n",
              "      --fill-color: #D2E3FC;\n",
              "      --hover-bg-color: #434B5C;\n",
              "      --hover-fill-color: #FFFFFF;\n",
              "      --disabled-bg-color: #3B4455;\n",
              "      --disabled-fill-color: #666;\n",
              "  }\n",
              "\n",
              "  .colab-df-quickchart {\n",
              "    background-color: var(--bg-color);\n",
              "    border: none;\n",
              "    border-radius: 50%;\n",
              "    cursor: pointer;\n",
              "    display: none;\n",
              "    fill: var(--fill-color);\n",
              "    height: 32px;\n",
              "    padding: 0;\n",
              "    width: 32px;\n",
              "  }\n",
              "\n",
              "  .colab-df-quickchart:hover {\n",
              "    background-color: var(--hover-bg-color);\n",
              "    box-shadow: 0 1px 2px rgba(60, 64, 67, 0.3), 0 1px 3px 1px rgba(60, 64, 67, 0.15);\n",
              "    fill: var(--button-hover-fill-color);\n",
              "  }\n",
              "\n",
              "  .colab-df-quickchart-complete:disabled,\n",
              "  .colab-df-quickchart-complete:disabled:hover {\n",
              "    background-color: var(--disabled-bg-color);\n",
              "    fill: var(--disabled-fill-color);\n",
              "    box-shadow: none;\n",
              "  }\n",
              "\n",
              "  .colab-df-spinner {\n",
              "    border: 2px solid var(--fill-color);\n",
              "    border-color: transparent;\n",
              "    border-bottom-color: var(--fill-color);\n",
              "    animation:\n",
              "      spin 1s steps(1) infinite;\n",
              "  }\n",
              "\n",
              "  @keyframes spin {\n",
              "    0% {\n",
              "      border-color: transparent;\n",
              "      border-bottom-color: var(--fill-color);\n",
              "      border-left-color: var(--fill-color);\n",
              "    }\n",
              "    20% {\n",
              "      border-color: transparent;\n",
              "      border-left-color: var(--fill-color);\n",
              "      border-top-color: var(--fill-color);\n",
              "    }\n",
              "    30% {\n",
              "      border-color: transparent;\n",
              "      border-left-color: var(--fill-color);\n",
              "      border-top-color: var(--fill-color);\n",
              "      border-right-color: var(--fill-color);\n",
              "    }\n",
              "    40% {\n",
              "      border-color: transparent;\n",
              "      border-right-color: var(--fill-color);\n",
              "      border-top-color: var(--fill-color);\n",
              "    }\n",
              "    60% {\n",
              "      border-color: transparent;\n",
              "      border-right-color: var(--fill-color);\n",
              "    }\n",
              "    80% {\n",
              "      border-color: transparent;\n",
              "      border-right-color: var(--fill-color);\n",
              "      border-bottom-color: var(--fill-color);\n",
              "    }\n",
              "    90% {\n",
              "      border-color: transparent;\n",
              "      border-bottom-color: var(--fill-color);\n",
              "    }\n",
              "  }\n",
              "</style>\n",
              "\n",
              "      <script>\n",
              "        async function quickchart(key) {\n",
              "          const quickchartButtonEl =\n",
              "            document.querySelector('#' + key + ' button');\n",
              "          quickchartButtonEl.disabled = true;  // To prevent multiple clicks.\n",
              "          quickchartButtonEl.classList.add('colab-df-spinner');\n",
              "          try {\n",
              "            const charts = await google.colab.kernel.invokeFunction(\n",
              "                'suggestCharts', [key], {});\n",
              "          } catch (error) {\n",
              "            console.error('Error during call to suggestCharts:', error);\n",
              "          }\n",
              "          quickchartButtonEl.classList.remove('colab-df-spinner');\n",
              "          quickchartButtonEl.classList.add('colab-df-quickchart-complete');\n",
              "        }\n",
              "        (() => {\n",
              "          let quickchartButtonEl =\n",
              "            document.querySelector('#df-7bf50977-4b0e-4b26-81f0-ccc1b873d3b0 button');\n",
              "          quickchartButtonEl.style.display =\n",
              "            google.colab.kernel.accessAllowed ? 'block' : 'none';\n",
              "        })();\n",
              "      </script>\n",
              "    </div>\n",
              "\n",
              "    </div>\n",
              "  </div>\n"
            ],
            "application/vnd.google.colaboratory.intrinsic+json": {
              "type": "dataframe"
            }
          },
          "metadata": {},
          "execution_count": 4
        }
      ]
    },
    {
      "cell_type": "code",
      "source": [
        "# NO OF ROWS\n",
        "print(\"no of rows \", df.shape[0])"
      ],
      "metadata": {
        "id": "yJM2j5vsMCWh",
        "colab": {
          "base_uri": "https://localhost:8080/"
        },
        "outputId": "82d50823-7a07-4206-c91f-5fe88cac0bf4"
      },
      "execution_count": 5,
      "outputs": [
        {
          "output_type": "stream",
          "name": "stdout",
          "text": [
            "no of rows  38576\n"
          ]
        }
      ]
    },
    {
      "cell_type": "code",
      "source": [
        "# NO OF COLOUMN"
      ],
      "metadata": {
        "id": "Hr0Fu_ihMtlR"
      },
      "execution_count": 6,
      "outputs": []
    },
    {
      "cell_type": "code",
      "source": [
        "print (\"no of coloumns \", df.shape[1])"
      ],
      "metadata": {
        "id": "BoYNJpTHM3zf",
        "colab": {
          "base_uri": "https://localhost:8080/"
        },
        "outputId": "8454f097-e6a3-4be2-b328-f91ae792ef63"
      },
      "execution_count": 7,
      "outputs": [
        {
          "output_type": "stream",
          "name": "stdout",
          "text": [
            "no of coloumns  24\n"
          ]
        }
      ]
    },
    {
      "cell_type": "code",
      "source": [
        "df.info()"
      ],
      "metadata": {
        "id": "kd4pg60fNC3g",
        "colab": {
          "base_uri": "https://localhost:8080/"
        },
        "outputId": "2e92aecd-0184-45a4-9bcd-cf1442178604"
      },
      "execution_count": 8,
      "outputs": [
        {
          "output_type": "stream",
          "name": "stdout",
          "text": [
            "<class 'pandas.core.frame.DataFrame'>\n",
            "RangeIndex: 38576 entries, 0 to 38575\n",
            "Data columns (total 24 columns):\n",
            " #   Column                 Non-Null Count  Dtype         \n",
            "---  ------                 --------------  -----         \n",
            " 0   id                     38576 non-null  int64         \n",
            " 1   address_state          38576 non-null  object        \n",
            " 2   application_type       38576 non-null  object        \n",
            " 3   emp_length             38576 non-null  object        \n",
            " 4   emp_title              37138 non-null  object        \n",
            " 5   grade                  38576 non-null  object        \n",
            " 6   home_ownership         38576 non-null  object        \n",
            " 7   issue_date             38576 non-null  datetime64[ns]\n",
            " 8   last_credit_pull_date  38576 non-null  datetime64[ns]\n",
            " 9   last_payment_date      38576 non-null  datetime64[ns]\n",
            " 10  loan_status            38576 non-null  object        \n",
            " 11  next_payment_date      38576 non-null  datetime64[ns]\n",
            " 12  member_id              38576 non-null  int64         \n",
            " 13  purpose                38576 non-null  object        \n",
            " 14  sub_grade              38576 non-null  object        \n",
            " 15  term                   38576 non-null  object        \n",
            " 16  verification_status    38576 non-null  object        \n",
            " 17  annual_income          38576 non-null  float64       \n",
            " 18  dti                    38576 non-null  float64       \n",
            " 19  installment            38576 non-null  float64       \n",
            " 20  int_rate               38576 non-null  float64       \n",
            " 21  loan_amount            38576 non-null  int64         \n",
            " 22  total_acc              38576 non-null  int64         \n",
            " 23  total_payment          38576 non-null  int64         \n",
            "dtypes: datetime64[ns](4), float64(4), int64(5), object(11)\n",
            "memory usage: 7.1+ MB\n"
          ]
        }
      ]
    },
    {
      "cell_type": "markdown",
      "source": [
        "Data Types"
      ],
      "metadata": {
        "id": "toBGvmAGNdjd"
      }
    },
    {
      "cell_type": "code",
      "source": [
        "df.dtypes"
      ],
      "metadata": {
        "id": "NxLJ7FZbNKg-",
        "colab": {
          "base_uri": "https://localhost:8080/",
          "height": 836
        },
        "outputId": "f6d77ca0-15c2-4f79-b91b-0387ec67675f"
      },
      "execution_count": 9,
      "outputs": [
        {
          "output_type": "execute_result",
          "data": {
            "text/plain": [
              "id                                int64\n",
              "address_state                    object\n",
              "application_type                 object\n",
              "emp_length                       object\n",
              "emp_title                        object\n",
              "grade                            object\n",
              "home_ownership                   object\n",
              "issue_date               datetime64[ns]\n",
              "last_credit_pull_date    datetime64[ns]\n",
              "last_payment_date        datetime64[ns]\n",
              "loan_status                      object\n",
              "next_payment_date        datetime64[ns]\n",
              "member_id                         int64\n",
              "purpose                          object\n",
              "sub_grade                        object\n",
              "term                             object\n",
              "verification_status              object\n",
              "annual_income                   float64\n",
              "dti                             float64\n",
              "installment                     float64\n",
              "int_rate                        float64\n",
              "loan_amount                       int64\n",
              "total_acc                         int64\n",
              "total_payment                     int64\n",
              "dtype: object"
            ],
            "text/html": [
              "<div>\n",
              "<style scoped>\n",
              "    .dataframe tbody tr th:only-of-type {\n",
              "        vertical-align: middle;\n",
              "    }\n",
              "\n",
              "    .dataframe tbody tr th {\n",
              "        vertical-align: top;\n",
              "    }\n",
              "\n",
              "    .dataframe thead th {\n",
              "        text-align: right;\n",
              "    }\n",
              "</style>\n",
              "<table border=\"1\" class=\"dataframe\">\n",
              "  <thead>\n",
              "    <tr style=\"text-align: right;\">\n",
              "      <th></th>\n",
              "      <th>0</th>\n",
              "    </tr>\n",
              "  </thead>\n",
              "  <tbody>\n",
              "    <tr>\n",
              "      <th>id</th>\n",
              "      <td>int64</td>\n",
              "    </tr>\n",
              "    <tr>\n",
              "      <th>address_state</th>\n",
              "      <td>object</td>\n",
              "    </tr>\n",
              "    <tr>\n",
              "      <th>application_type</th>\n",
              "      <td>object</td>\n",
              "    </tr>\n",
              "    <tr>\n",
              "      <th>emp_length</th>\n",
              "      <td>object</td>\n",
              "    </tr>\n",
              "    <tr>\n",
              "      <th>emp_title</th>\n",
              "      <td>object</td>\n",
              "    </tr>\n",
              "    <tr>\n",
              "      <th>grade</th>\n",
              "      <td>object</td>\n",
              "    </tr>\n",
              "    <tr>\n",
              "      <th>home_ownership</th>\n",
              "      <td>object</td>\n",
              "    </tr>\n",
              "    <tr>\n",
              "      <th>issue_date</th>\n",
              "      <td>datetime64[ns]</td>\n",
              "    </tr>\n",
              "    <tr>\n",
              "      <th>last_credit_pull_date</th>\n",
              "      <td>datetime64[ns]</td>\n",
              "    </tr>\n",
              "    <tr>\n",
              "      <th>last_payment_date</th>\n",
              "      <td>datetime64[ns]</td>\n",
              "    </tr>\n",
              "    <tr>\n",
              "      <th>loan_status</th>\n",
              "      <td>object</td>\n",
              "    </tr>\n",
              "    <tr>\n",
              "      <th>next_payment_date</th>\n",
              "      <td>datetime64[ns]</td>\n",
              "    </tr>\n",
              "    <tr>\n",
              "      <th>member_id</th>\n",
              "      <td>int64</td>\n",
              "    </tr>\n",
              "    <tr>\n",
              "      <th>purpose</th>\n",
              "      <td>object</td>\n",
              "    </tr>\n",
              "    <tr>\n",
              "      <th>sub_grade</th>\n",
              "      <td>object</td>\n",
              "    </tr>\n",
              "    <tr>\n",
              "      <th>term</th>\n",
              "      <td>object</td>\n",
              "    </tr>\n",
              "    <tr>\n",
              "      <th>verification_status</th>\n",
              "      <td>object</td>\n",
              "    </tr>\n",
              "    <tr>\n",
              "      <th>annual_income</th>\n",
              "      <td>float64</td>\n",
              "    </tr>\n",
              "    <tr>\n",
              "      <th>dti</th>\n",
              "      <td>float64</td>\n",
              "    </tr>\n",
              "    <tr>\n",
              "      <th>installment</th>\n",
              "      <td>float64</td>\n",
              "    </tr>\n",
              "    <tr>\n",
              "      <th>int_rate</th>\n",
              "      <td>float64</td>\n",
              "    </tr>\n",
              "    <tr>\n",
              "      <th>loan_amount</th>\n",
              "      <td>int64</td>\n",
              "    </tr>\n",
              "    <tr>\n",
              "      <th>total_acc</th>\n",
              "      <td>int64</td>\n",
              "    </tr>\n",
              "    <tr>\n",
              "      <th>total_payment</th>\n",
              "      <td>int64</td>\n",
              "    </tr>\n",
              "  </tbody>\n",
              "</table>\n",
              "</div><br><label><b>dtype:</b> object</label>"
            ]
          },
          "metadata": {},
          "execution_count": 9
        }
      ]
    },
    {
      "cell_type": "code",
      "source": [
        "df.describe()"
      ],
      "metadata": {
        "id": "BvWzQPcJNgzY",
        "colab": {
          "base_uri": "https://localhost:8080/",
          "height": 424
        },
        "outputId": "642b603f-e3f8-41d8-c35e-613c29bbde9b"
      },
      "execution_count": 10,
      "outputs": [
        {
          "output_type": "execute_result",
          "data": {
            "text/plain": [
              "                 id                     issue_date  \\\n",
              "count  3.857600e+04                          38576   \n",
              "mean   6.810371e+05  2021-07-16 02:31:35.562007040   \n",
              "min    5.473400e+04            2021-01-01 00:00:00   \n",
              "25%    5.135170e+05            2021-04-11 00:00:00   \n",
              "50%    6.627280e+05            2021-07-11 00:00:00   \n",
              "75%    8.365060e+05            2021-10-11 00:00:00   \n",
              "max    1.077501e+06            2021-12-12 00:00:00   \n",
              "std    2.113246e+05                            NaN   \n",
              "\n",
              "               last_credit_pull_date              last_payment_date  \\\n",
              "count                          38576                          38576   \n",
              "mean   2021-06-08 13:36:34.193280512  2021-06-26 09:52:08.909166080   \n",
              "min              2021-01-08 00:00:00            2021-01-08 00:00:00   \n",
              "25%              2021-04-15 00:00:00            2021-03-16 00:00:00   \n",
              "50%              2021-05-16 00:00:00            2021-06-14 00:00:00   \n",
              "75%              2021-08-13 00:00:00            2021-09-15 00:00:00   \n",
              "max              2022-01-20 00:00:00            2021-12-15 00:00:00   \n",
              "std                              NaN                            NaN   \n",
              "\n",
              "                   next_payment_date     member_id  annual_income  \\\n",
              "count                          38576  3.857600e+04   3.857600e+04   \n",
              "mean   2021-07-26 20:42:20.605557760  8.476515e+05   6.964454e+04   \n",
              "min              2021-02-08 00:00:00  7.069900e+04   4.000000e+03   \n",
              "25%              2021-04-16 00:00:00  6.629788e+05   4.150000e+04   \n",
              "50%              2021-07-14 00:00:00  8.473565e+05   6.000000e+04   \n",
              "75%              2021-10-15 00:00:00  1.045652e+06   8.320050e+04   \n",
              "max              2022-01-15 00:00:00  1.314167e+06   6.000000e+06   \n",
              "std                              NaN  2.668105e+05   6.429368e+04   \n",
              "\n",
              "                dti   installment      int_rate   loan_amount     total_acc  \\\n",
              "count  38576.000000  38576.000000  38576.000000  38576.000000  38576.000000   \n",
              "mean       0.133274    326.862965      0.120488  11296.066855     22.132544   \n",
              "min        0.000000     15.690000      0.054200    500.000000      2.000000   \n",
              "25%        0.082100    168.450000      0.093200   5500.000000     14.000000   \n",
              "50%        0.134200    283.045000      0.118600  10000.000000     20.000000   \n",
              "75%        0.185900    434.442500      0.145900  15000.000000     29.000000   \n",
              "max        0.299900   1305.190000      0.245900  35000.000000     90.000000   \n",
              "std        0.066662    209.092000      0.037164   7460.746022     11.392282   \n",
              "\n",
              "       total_payment  \n",
              "count   38576.000000  \n",
              "mean    12263.348533  \n",
              "min        34.000000  \n",
              "25%      5633.000000  \n",
              "50%     10042.000000  \n",
              "75%     16658.000000  \n",
              "max     58564.000000  \n",
              "std      9051.104777  "
            ],
            "text/html": [
              "\n",
              "  <div id=\"df-19e83f44-f513-4a6c-ac0d-dbe059f56bc5\" class=\"colab-df-container\">\n",
              "    <div>\n",
              "<style scoped>\n",
              "    .dataframe tbody tr th:only-of-type {\n",
              "        vertical-align: middle;\n",
              "    }\n",
              "\n",
              "    .dataframe tbody tr th {\n",
              "        vertical-align: top;\n",
              "    }\n",
              "\n",
              "    .dataframe thead th {\n",
              "        text-align: right;\n",
              "    }\n",
              "</style>\n",
              "<table border=\"1\" class=\"dataframe\">\n",
              "  <thead>\n",
              "    <tr style=\"text-align: right;\">\n",
              "      <th></th>\n",
              "      <th>id</th>\n",
              "      <th>issue_date</th>\n",
              "      <th>last_credit_pull_date</th>\n",
              "      <th>last_payment_date</th>\n",
              "      <th>next_payment_date</th>\n",
              "      <th>member_id</th>\n",
              "      <th>annual_income</th>\n",
              "      <th>dti</th>\n",
              "      <th>installment</th>\n",
              "      <th>int_rate</th>\n",
              "      <th>loan_amount</th>\n",
              "      <th>total_acc</th>\n",
              "      <th>total_payment</th>\n",
              "    </tr>\n",
              "  </thead>\n",
              "  <tbody>\n",
              "    <tr>\n",
              "      <th>count</th>\n",
              "      <td>3.857600e+04</td>\n",
              "      <td>38576</td>\n",
              "      <td>38576</td>\n",
              "      <td>38576</td>\n",
              "      <td>38576</td>\n",
              "      <td>3.857600e+04</td>\n",
              "      <td>3.857600e+04</td>\n",
              "      <td>38576.000000</td>\n",
              "      <td>38576.000000</td>\n",
              "      <td>38576.000000</td>\n",
              "      <td>38576.000000</td>\n",
              "      <td>38576.000000</td>\n",
              "      <td>38576.000000</td>\n",
              "    </tr>\n",
              "    <tr>\n",
              "      <th>mean</th>\n",
              "      <td>6.810371e+05</td>\n",
              "      <td>2021-07-16 02:31:35.562007040</td>\n",
              "      <td>2021-06-08 13:36:34.193280512</td>\n",
              "      <td>2021-06-26 09:52:08.909166080</td>\n",
              "      <td>2021-07-26 20:42:20.605557760</td>\n",
              "      <td>8.476515e+05</td>\n",
              "      <td>6.964454e+04</td>\n",
              "      <td>0.133274</td>\n",
              "      <td>326.862965</td>\n",
              "      <td>0.120488</td>\n",
              "      <td>11296.066855</td>\n",
              "      <td>22.132544</td>\n",
              "      <td>12263.348533</td>\n",
              "    </tr>\n",
              "    <tr>\n",
              "      <th>min</th>\n",
              "      <td>5.473400e+04</td>\n",
              "      <td>2021-01-01 00:00:00</td>\n",
              "      <td>2021-01-08 00:00:00</td>\n",
              "      <td>2021-01-08 00:00:00</td>\n",
              "      <td>2021-02-08 00:00:00</td>\n",
              "      <td>7.069900e+04</td>\n",
              "      <td>4.000000e+03</td>\n",
              "      <td>0.000000</td>\n",
              "      <td>15.690000</td>\n",
              "      <td>0.054200</td>\n",
              "      <td>500.000000</td>\n",
              "      <td>2.000000</td>\n",
              "      <td>34.000000</td>\n",
              "    </tr>\n",
              "    <tr>\n",
              "      <th>25%</th>\n",
              "      <td>5.135170e+05</td>\n",
              "      <td>2021-04-11 00:00:00</td>\n",
              "      <td>2021-04-15 00:00:00</td>\n",
              "      <td>2021-03-16 00:00:00</td>\n",
              "      <td>2021-04-16 00:00:00</td>\n",
              "      <td>6.629788e+05</td>\n",
              "      <td>4.150000e+04</td>\n",
              "      <td>0.082100</td>\n",
              "      <td>168.450000</td>\n",
              "      <td>0.093200</td>\n",
              "      <td>5500.000000</td>\n",
              "      <td>14.000000</td>\n",
              "      <td>5633.000000</td>\n",
              "    </tr>\n",
              "    <tr>\n",
              "      <th>50%</th>\n",
              "      <td>6.627280e+05</td>\n",
              "      <td>2021-07-11 00:00:00</td>\n",
              "      <td>2021-05-16 00:00:00</td>\n",
              "      <td>2021-06-14 00:00:00</td>\n",
              "      <td>2021-07-14 00:00:00</td>\n",
              "      <td>8.473565e+05</td>\n",
              "      <td>6.000000e+04</td>\n",
              "      <td>0.134200</td>\n",
              "      <td>283.045000</td>\n",
              "      <td>0.118600</td>\n",
              "      <td>10000.000000</td>\n",
              "      <td>20.000000</td>\n",
              "      <td>10042.000000</td>\n",
              "    </tr>\n",
              "    <tr>\n",
              "      <th>75%</th>\n",
              "      <td>8.365060e+05</td>\n",
              "      <td>2021-10-11 00:00:00</td>\n",
              "      <td>2021-08-13 00:00:00</td>\n",
              "      <td>2021-09-15 00:00:00</td>\n",
              "      <td>2021-10-15 00:00:00</td>\n",
              "      <td>1.045652e+06</td>\n",
              "      <td>8.320050e+04</td>\n",
              "      <td>0.185900</td>\n",
              "      <td>434.442500</td>\n",
              "      <td>0.145900</td>\n",
              "      <td>15000.000000</td>\n",
              "      <td>29.000000</td>\n",
              "      <td>16658.000000</td>\n",
              "    </tr>\n",
              "    <tr>\n",
              "      <th>max</th>\n",
              "      <td>1.077501e+06</td>\n",
              "      <td>2021-12-12 00:00:00</td>\n",
              "      <td>2022-01-20 00:00:00</td>\n",
              "      <td>2021-12-15 00:00:00</td>\n",
              "      <td>2022-01-15 00:00:00</td>\n",
              "      <td>1.314167e+06</td>\n",
              "      <td>6.000000e+06</td>\n",
              "      <td>0.299900</td>\n",
              "      <td>1305.190000</td>\n",
              "      <td>0.245900</td>\n",
              "      <td>35000.000000</td>\n",
              "      <td>90.000000</td>\n",
              "      <td>58564.000000</td>\n",
              "    </tr>\n",
              "    <tr>\n",
              "      <th>std</th>\n",
              "      <td>2.113246e+05</td>\n",
              "      <td>NaN</td>\n",
              "      <td>NaN</td>\n",
              "      <td>NaN</td>\n",
              "      <td>NaN</td>\n",
              "      <td>2.668105e+05</td>\n",
              "      <td>6.429368e+04</td>\n",
              "      <td>0.066662</td>\n",
              "      <td>209.092000</td>\n",
              "      <td>0.037164</td>\n",
              "      <td>7460.746022</td>\n",
              "      <td>11.392282</td>\n",
              "      <td>9051.104777</td>\n",
              "    </tr>\n",
              "  </tbody>\n",
              "</table>\n",
              "</div>\n",
              "    <div class=\"colab-df-buttons\">\n",
              "\n",
              "  <div class=\"colab-df-container\">\n",
              "    <button class=\"colab-df-convert\" onclick=\"convertToInteractive('df-19e83f44-f513-4a6c-ac0d-dbe059f56bc5')\"\n",
              "            title=\"Convert this dataframe to an interactive table.\"\n",
              "            style=\"display:none;\">\n",
              "\n",
              "  <svg xmlns=\"http://www.w3.org/2000/svg\" height=\"24px\" viewBox=\"0 -960 960 960\">\n",
              "    <path d=\"M120-120v-720h720v720H120Zm60-500h600v-160H180v160Zm220 220h160v-160H400v160Zm0 220h160v-160H400v160ZM180-400h160v-160H180v160Zm440 0h160v-160H620v160ZM180-180h160v-160H180v160Zm440 0h160v-160H620v160Z\"/>\n",
              "  </svg>\n",
              "    </button>\n",
              "\n",
              "  <style>\n",
              "    .colab-df-container {\n",
              "      display:flex;\n",
              "      gap: 12px;\n",
              "    }\n",
              "\n",
              "    .colab-df-convert {\n",
              "      background-color: #E8F0FE;\n",
              "      border: none;\n",
              "      border-radius: 50%;\n",
              "      cursor: pointer;\n",
              "      display: none;\n",
              "      fill: #1967D2;\n",
              "      height: 32px;\n",
              "      padding: 0 0 0 0;\n",
              "      width: 32px;\n",
              "    }\n",
              "\n",
              "    .colab-df-convert:hover {\n",
              "      background-color: #E2EBFA;\n",
              "      box-shadow: 0px 1px 2px rgba(60, 64, 67, 0.3), 0px 1px 3px 1px rgba(60, 64, 67, 0.15);\n",
              "      fill: #174EA6;\n",
              "    }\n",
              "\n",
              "    .colab-df-buttons div {\n",
              "      margin-bottom: 4px;\n",
              "    }\n",
              "\n",
              "    [theme=dark] .colab-df-convert {\n",
              "      background-color: #3B4455;\n",
              "      fill: #D2E3FC;\n",
              "    }\n",
              "\n",
              "    [theme=dark] .colab-df-convert:hover {\n",
              "      background-color: #434B5C;\n",
              "      box-shadow: 0px 1px 3px 1px rgba(0, 0, 0, 0.15);\n",
              "      filter: drop-shadow(0px 1px 2px rgba(0, 0, 0, 0.3));\n",
              "      fill: #FFFFFF;\n",
              "    }\n",
              "  </style>\n",
              "\n",
              "    <script>\n",
              "      const buttonEl =\n",
              "        document.querySelector('#df-19e83f44-f513-4a6c-ac0d-dbe059f56bc5 button.colab-df-convert');\n",
              "      buttonEl.style.display =\n",
              "        google.colab.kernel.accessAllowed ? 'block' : 'none';\n",
              "\n",
              "      async function convertToInteractive(key) {\n",
              "        const element = document.querySelector('#df-19e83f44-f513-4a6c-ac0d-dbe059f56bc5');\n",
              "        const dataTable =\n",
              "          await google.colab.kernel.invokeFunction('convertToInteractive',\n",
              "                                                    [key], {});\n",
              "        if (!dataTable) return;\n",
              "\n",
              "        const docLinkHtml = 'Like what you see? Visit the ' +\n",
              "          '<a target=\"_blank\" href=https://colab.research.google.com/notebooks/data_table.ipynb>data table notebook</a>'\n",
              "          + ' to learn more about interactive tables.';\n",
              "        element.innerHTML = '';\n",
              "        dataTable['output_type'] = 'display_data';\n",
              "        await google.colab.output.renderOutput(dataTable, element);\n",
              "        const docLink = document.createElement('div');\n",
              "        docLink.innerHTML = docLinkHtml;\n",
              "        element.appendChild(docLink);\n",
              "      }\n",
              "    </script>\n",
              "  </div>\n",
              "\n",
              "\n",
              "    <div id=\"df-3f83f915-ec5c-4a64-8e1e-4c65c4ee315f\">\n",
              "      <button class=\"colab-df-quickchart\" onclick=\"quickchart('df-3f83f915-ec5c-4a64-8e1e-4c65c4ee315f')\"\n",
              "                title=\"Suggest charts\"\n",
              "                style=\"display:none;\">\n",
              "\n",
              "<svg xmlns=\"http://www.w3.org/2000/svg\" height=\"24px\"viewBox=\"0 0 24 24\"\n",
              "     width=\"24px\">\n",
              "    <g>\n",
              "        <path d=\"M19 3H5c-1.1 0-2 .9-2 2v14c0 1.1.9 2 2 2h14c1.1 0 2-.9 2-2V5c0-1.1-.9-2-2-2zM9 17H7v-7h2v7zm4 0h-2V7h2v10zm4 0h-2v-4h2v4z\"/>\n",
              "    </g>\n",
              "</svg>\n",
              "      </button>\n",
              "\n",
              "<style>\n",
              "  .colab-df-quickchart {\n",
              "      --bg-color: #E8F0FE;\n",
              "      --fill-color: #1967D2;\n",
              "      --hover-bg-color: #E2EBFA;\n",
              "      --hover-fill-color: #174EA6;\n",
              "      --disabled-fill-color: #AAA;\n",
              "      --disabled-bg-color: #DDD;\n",
              "  }\n",
              "\n",
              "  [theme=dark] .colab-df-quickchart {\n",
              "      --bg-color: #3B4455;\n",
              "      --fill-color: #D2E3FC;\n",
              "      --hover-bg-color: #434B5C;\n",
              "      --hover-fill-color: #FFFFFF;\n",
              "      --disabled-bg-color: #3B4455;\n",
              "      --disabled-fill-color: #666;\n",
              "  }\n",
              "\n",
              "  .colab-df-quickchart {\n",
              "    background-color: var(--bg-color);\n",
              "    border: none;\n",
              "    border-radius: 50%;\n",
              "    cursor: pointer;\n",
              "    display: none;\n",
              "    fill: var(--fill-color);\n",
              "    height: 32px;\n",
              "    padding: 0;\n",
              "    width: 32px;\n",
              "  }\n",
              "\n",
              "  .colab-df-quickchart:hover {\n",
              "    background-color: var(--hover-bg-color);\n",
              "    box-shadow: 0 1px 2px rgba(60, 64, 67, 0.3), 0 1px 3px 1px rgba(60, 64, 67, 0.15);\n",
              "    fill: var(--button-hover-fill-color);\n",
              "  }\n",
              "\n",
              "  .colab-df-quickchart-complete:disabled,\n",
              "  .colab-df-quickchart-complete:disabled:hover {\n",
              "    background-color: var(--disabled-bg-color);\n",
              "    fill: var(--disabled-fill-color);\n",
              "    box-shadow: none;\n",
              "  }\n",
              "\n",
              "  .colab-df-spinner {\n",
              "    border: 2px solid var(--fill-color);\n",
              "    border-color: transparent;\n",
              "    border-bottom-color: var(--fill-color);\n",
              "    animation:\n",
              "      spin 1s steps(1) infinite;\n",
              "  }\n",
              "\n",
              "  @keyframes spin {\n",
              "    0% {\n",
              "      border-color: transparent;\n",
              "      border-bottom-color: var(--fill-color);\n",
              "      border-left-color: var(--fill-color);\n",
              "    }\n",
              "    20% {\n",
              "      border-color: transparent;\n",
              "      border-left-color: var(--fill-color);\n",
              "      border-top-color: var(--fill-color);\n",
              "    }\n",
              "    30% {\n",
              "      border-color: transparent;\n",
              "      border-left-color: var(--fill-color);\n",
              "      border-top-color: var(--fill-color);\n",
              "      border-right-color: var(--fill-color);\n",
              "    }\n",
              "    40% {\n",
              "      border-color: transparent;\n",
              "      border-right-color: var(--fill-color);\n",
              "      border-top-color: var(--fill-color);\n",
              "    }\n",
              "    60% {\n",
              "      border-color: transparent;\n",
              "      border-right-color: var(--fill-color);\n",
              "    }\n",
              "    80% {\n",
              "      border-color: transparent;\n",
              "      border-right-color: var(--fill-color);\n",
              "      border-bottom-color: var(--fill-color);\n",
              "    }\n",
              "    90% {\n",
              "      border-color: transparent;\n",
              "      border-bottom-color: var(--fill-color);\n",
              "    }\n",
              "  }\n",
              "</style>\n",
              "\n",
              "      <script>\n",
              "        async function quickchart(key) {\n",
              "          const quickchartButtonEl =\n",
              "            document.querySelector('#' + key + ' button');\n",
              "          quickchartButtonEl.disabled = true;  // To prevent multiple clicks.\n",
              "          quickchartButtonEl.classList.add('colab-df-spinner');\n",
              "          try {\n",
              "            const charts = await google.colab.kernel.invokeFunction(\n",
              "                'suggestCharts', [key], {});\n",
              "          } catch (error) {\n",
              "            console.error('Error during call to suggestCharts:', error);\n",
              "          }\n",
              "          quickchartButtonEl.classList.remove('colab-df-spinner');\n",
              "          quickchartButtonEl.classList.add('colab-df-quickchart-complete');\n",
              "        }\n",
              "        (() => {\n",
              "          let quickchartButtonEl =\n",
              "            document.querySelector('#df-3f83f915-ec5c-4a64-8e1e-4c65c4ee315f button');\n",
              "          quickchartButtonEl.style.display =\n",
              "            google.colab.kernel.accessAllowed ? 'block' : 'none';\n",
              "        })();\n",
              "      </script>\n",
              "    </div>\n",
              "\n",
              "    </div>\n",
              "  </div>\n"
            ],
            "application/vnd.google.colaboratory.intrinsic+json": {
              "type": "dataframe",
              "summary": "{\n  \"name\": \"df\",\n  \"rows\": 8,\n  \"fields\": [\n    {\n      \"column\": \"id\",\n      \"properties\": {\n        \"dtype\": \"number\",\n        \"std\": 377958.44248068327,\n        \"min\": 38576.0,\n        \"max\": 1077501.0,\n        \"num_unique_values\": 8,\n        \"samples\": [\n          681037.0613853172,\n          836506.0,\n          38576.0\n        ],\n        \"semantic_type\": \"\",\n        \"description\": \"\"\n      }\n    },\n    {\n      \"column\": \"issue_date\",\n      \"properties\": {\n        \"dtype\": \"date\",\n        \"min\": \"1970-01-01 00:00:00.000038576\",\n        \"max\": \"2021-12-12 00:00:00\",\n        \"num_unique_values\": 7,\n        \"samples\": [\n          \"38576\",\n          \"2021-07-16 02:31:35.562007040\",\n          \"2021-10-11 00:00:00\"\n        ],\n        \"semantic_type\": \"\",\n        \"description\": \"\"\n      }\n    },\n    {\n      \"column\": \"last_credit_pull_date\",\n      \"properties\": {\n        \"dtype\": \"date\",\n        \"min\": \"1970-01-01 00:00:00.000038576\",\n        \"max\": \"2022-01-20 00:00:00\",\n        \"num_unique_values\": 7,\n        \"samples\": [\n          \"38576\",\n          \"2021-06-08 13:36:34.193280512\",\n          \"2021-08-13 00:00:00\"\n        ],\n        \"semantic_type\": \"\",\n        \"description\": \"\"\n      }\n    },\n    {\n      \"column\": \"last_payment_date\",\n      \"properties\": {\n        \"dtype\": \"date\",\n        \"min\": \"1970-01-01 00:00:00.000038576\",\n        \"max\": \"2021-12-15 00:00:00\",\n        \"num_unique_values\": 7,\n        \"samples\": [\n          \"38576\",\n          \"2021-06-26 09:52:08.909166080\",\n          \"2021-09-15 00:00:00\"\n        ],\n        \"semantic_type\": \"\",\n        \"description\": \"\"\n      }\n    },\n    {\n      \"column\": \"next_payment_date\",\n      \"properties\": {\n        \"dtype\": \"date\",\n        \"min\": \"1970-01-01 00:00:00.000038576\",\n        \"max\": \"2022-01-15 00:00:00\",\n        \"num_unique_values\": 7,\n        \"samples\": [\n          \"38576\",\n          \"2021-07-26 20:42:20.605557760\",\n          \"2021-10-15 00:00:00\"\n        ],\n        \"semantic_type\": \"\",\n        \"description\": \"\"\n      }\n    },\n    {\n      \"column\": \"member_id\",\n      \"properties\": {\n        \"dtype\": \"number\",\n        \"std\": 467622.9662442548,\n        \"min\": 38576.0,\n        \"max\": 1314167.0,\n        \"num_unique_values\": 8,\n        \"samples\": [\n          847651.5062992534,\n          1045652.5,\n          38576.0\n        ],\n        \"semantic_type\": \"\",\n        \"description\": \"\"\n      }\n    },\n    {\n      \"column\": \"annual_income\",\n      \"properties\": {\n        \"dtype\": \"number\",\n        \"std\": 2103215.2640658217,\n        \"min\": 4000.0,\n        \"max\": 6000000.0,\n        \"num_unique_values\": 8,\n        \"samples\": [\n          69644.54031003732,\n          83200.5,\n          38576.0\n        ],\n        \"semantic_type\": \"\",\n        \"description\": \"\"\n      }\n    },\n    {\n      \"column\": \"dti\",\n      \"properties\": {\n        \"dtype\": \"number\",\n        \"std\": 13638.630036123111,\n        \"min\": 0.0,\n        \"max\": 38576.0,\n        \"num_unique_values\": 8,\n        \"samples\": [\n          0.13327433119037743,\n          0.1859,\n          38576.0\n        ],\n        \"semantic_type\": \"\",\n        \"description\": \"\"\n      }\n    },\n    {\n      \"column\": \"installment\",\n      \"properties\": {\n        \"dtype\": \"number\",\n        \"std\": 13505.84112987877,\n        \"min\": 15.69,\n        \"max\": 38576.0,\n        \"num_unique_values\": 8,\n        \"samples\": [\n          326.86296505599336,\n          434.4425,\n          38576.0\n        ],\n        \"semantic_type\": \"\",\n        \"description\": \"\"\n      }\n    },\n    {\n      \"column\": \"int_rate\",\n      \"properties\": {\n        \"dtype\": \"number\",\n        \"std\": 13638.634409106971,\n        \"min\": 0.03716412124646389,\n        \"max\": 38576.0,\n        \"num_unique_values\": 8,\n        \"samples\": [\n          0.12048831397760265,\n          0.1459,\n          38576.0\n        ],\n        \"semantic_type\": \"\",\n        \"description\": \"\"\n      }\n    },\n    {\n      \"column\": \"loan_amount\",\n      \"properties\": {\n        \"dtype\": \"number\",\n        \"std\": 13889.86676925708,\n        \"min\": 500.0,\n        \"max\": 38576.0,\n        \"num_unique_values\": 8,\n        \"samples\": [\n          11296.066855039402,\n          15000.0,\n          38576.0\n        ],\n        \"semantic_type\": \"\",\n        \"description\": \"\"\n      }\n    },\n    {\n      \"column\": \"total_acc\",\n      \"properties\": {\n        \"dtype\": \"number\",\n        \"std\": 13629.180294573936,\n        \"min\": 2.0,\n        \"max\": 38576.0,\n        \"num_unique_values\": 8,\n        \"samples\": [\n          22.13254355039403,\n          29.0,\n          38576.0\n        ],\n        \"semantic_type\": \"\",\n        \"description\": \"\"\n      }\n    },\n    {\n      \"column\": \"total_payment\",\n      \"properties\": {\n        \"dtype\": \"number\",\n        \"std\": 19700.746224516733,\n        \"min\": 34.0,\n        \"max\": 58564.0,\n        \"num_unique_values\": 8,\n        \"samples\": [\n          12263.348532766488,\n          16658.0,\n          38576.0\n        ],\n        \"semantic_type\": \"\",\n        \"description\": \"\"\n      }\n    }\n  ]\n}"
            }
          },
          "metadata": {},
          "execution_count": 10
        }
      ]
    },
    {
      "cell_type": "markdown",
      "source": [
        "KPI analysis"
      ],
      "metadata": {
        "id": "RkyOM8UBOa4g"
      }
    },
    {
      "cell_type": "markdown",
      "source": [
        "1 total loan"
      ],
      "metadata": {
        "id": "8ksCRGH2On0v"
      }
    },
    {
      "cell_type": "code",
      "source": [
        "total_loan = df[\"id\"].count()\n",
        "print( \"total loan application \",total_loan)"
      ],
      "metadata": {
        "id": "mMeTFGoVODtb",
        "colab": {
          "base_uri": "https://localhost:8080/"
        },
        "outputId": "dac772e8-b77f-4578-d750-c84caf5e5833"
      },
      "execution_count": 11,
      "outputs": [
        {
          "output_type": "stream",
          "name": "stdout",
          "text": [
            "total loan application  38576\n"
          ]
        }
      ]
    },
    {
      "cell_type": "markdown",
      "source": [
        "MTD total loan"
      ],
      "metadata": {
        "id": "CWeMlIOfPc-Z"
      }
    },
    {
      "cell_type": "code",
      "source": [
        "latest_issue_date = df[\"issue_date\"].max()\n",
        "latest_year = latest_issue_date.year\n",
        "latest_month = latest_issue_date.month\n",
        "\n",
        "mtd_data = df[(df[\"issue_date\"].dt.year == latest_year) & (df[\"issue_date\"].dt.month == latest_month)]\n",
        "mtd_total_loan = mtd_data[\"id\"].count()\n",
        "print(f\"MTD loan applications (for {latest_issue_date.strftime('%B %Y')}): {mtd_total_loan}\")"
      ],
      "metadata": {
        "id": "gzC0rKFfO952",
        "colab": {
          "base_uri": "https://localhost:8080/"
        },
        "outputId": "a4137fa7-93ff-414e-dd78-8e57eb5b8848"
      },
      "execution_count": 12,
      "outputs": [
        {
          "output_type": "stream",
          "name": "stdout",
          "text": [
            "MTD loan applications (for December 2021): 4314\n"
          ]
        }
      ]
    },
    {
      "cell_type": "markdown",
      "source": [
        "Total funded amount"
      ],
      "metadata": {
        "id": "cPwyejzGmUYr"
      }
    },
    {
      "cell_type": "code",
      "source": [
        "total_funded_amount = df[\"loan_amount\"].sum()\n",
        "total_funded_amount_million = total_funded_amount / 1000000\n",
        "print(f\"Total funded amount: ${total_funded_amount_million}\")"
      ],
      "metadata": {
        "id": "KGCmk0lXRAWR",
        "colab": {
          "base_uri": "https://localhost:8080/"
        },
        "outputId": "63f30954-e748-4083-bcb8-9f3b287e3822"
      },
      "execution_count": 13,
      "outputs": [
        {
          "output_type": "stream",
          "name": "stdout",
          "text": [
            "Total funded amount: $435.757075\n"
          ]
        }
      ]
    },
    {
      "cell_type": "markdown",
      "source": [
        "MTD Total funded amount"
      ],
      "metadata": {
        "id": "X47HCSjDnb5c"
      }
    },
    {
      "cell_type": "code",
      "source": [
        "latest_issue_date = df[\"issue_date\"].max()\n",
        "latest_year = latest_issue_date.year\n",
        "latest_month = latest_issue_date.month\n",
        "\n",
        "mtd_data = df[(df[\"issue_date\"].dt.year == latest_year) & (df[\"issue_date\"].dt.month == latest_month)]\n",
        "\n",
        "mtd_total_funded_amount = mtd_data[\"loan_amount\"].sum()\n",
        "mtd_total_funded_amount_million = mtd_total_funded_amount / 1000000\n",
        "print(f\"MTD total funded amount: ${mtd_total_funded_amount_million}\")"
      ],
      "metadata": {
        "id": "z-0ayb4Vm2zk",
        "colab": {
          "base_uri": "https://localhost:8080/"
        },
        "outputId": "67b0957a-74cb-4a26-b237-8128a2516536"
      },
      "execution_count": 14,
      "outputs": [
        {
          "output_type": "stream",
          "name": "stdout",
          "text": [
            "MTD total funded amount: $53.981425\n"
          ]
        }
      ]
    },
    {
      "cell_type": "markdown",
      "source": [
        "Total amount recieved"
      ],
      "metadata": {
        "id": "Jhoflzp6oxLH"
      }
    },
    {
      "cell_type": "code",
      "source": [
        "total_amount = df[\"total_payment\"].sum()\n",
        "total_amount_million = total_funded_amount / 1000000\n",
        "print(f\"Total amount recieved: ${total_amount_million}\")"
      ],
      "metadata": {
        "id": "oQCq6qgCnwDz",
        "colab": {
          "base_uri": "https://localhost:8080/"
        },
        "outputId": "05f987be-2df0-4dcd-ad9a-b359d4e6996c"
      },
      "execution_count": 15,
      "outputs": [
        {
          "output_type": "stream",
          "name": "stdout",
          "text": [
            "Total amount recieved: $435.757075\n"
          ]
        }
      ]
    },
    {
      "cell_type": "markdown",
      "source": [
        "MTD total amount recieved"
      ],
      "metadata": {
        "id": "_3zM9sRypMp-"
      }
    },
    {
      "cell_type": "code",
      "source": [
        "latest_issue_date = df[\"issue_date\"].max()\n",
        "latest_year = latest_issue_date.year\n",
        "latest_month = latest_issue_date.month\n",
        "\n",
        "mtd_data = df[(df[\"issue_date\"].dt.year == latest_year) & (df[\"issue_date\"].dt.month == latest_month)]\n",
        "\n",
        "mtd_total_amount = mtd_data[\"total_payment\"].sum()\n",
        "mtd_total_amount_million = mtd_total_amount / 1000000\n",
        "print(f\"MTD total funded amount: ${mtd_total_amount_million}\")"
      ],
      "metadata": {
        "id": "VonRKssypPjK",
        "colab": {
          "base_uri": "https://localhost:8080/"
        },
        "outputId": "0658ed0f-415e-4d3b-a068-71a053bd6662"
      },
      "execution_count": 16,
      "outputs": [
        {
          "output_type": "stream",
          "name": "stdout",
          "text": [
            "MTD total funded amount: $58.07438\n"
          ]
        }
      ]
    },
    {
      "cell_type": "markdown",
      "source": [
        "Average Intrest Rate"
      ],
      "metadata": {
        "id": "5Htr8NAAqc8X"
      }
    },
    {
      "cell_type": "code",
      "source": [
        "avg_int_rate = df['int_rate'].mean()*100\n",
        "print(\"Average intrest rate:{:.2f}% \". format(avg_int_rate))"
      ],
      "metadata": {
        "id": "PzuXdh7WpUa7",
        "colab": {
          "base_uri": "https://localhost:8080/"
        },
        "outputId": "3f7bd75f-3a67-4d2f-b6a3-88695462ad9c"
      },
      "execution_count": 17,
      "outputs": [
        {
          "output_type": "stream",
          "name": "stdout",
          "text": [
            "Average intrest rate:12.05% \n"
          ]
        }
      ]
    },
    {
      "cell_type": "markdown",
      "source": [
        "Debt to income ratio"
      ],
      "metadata": {
        "id": "jm58fd4XrHgt"
      }
    },
    {
      "cell_type": "code",
      "source": [
        "debt_inc_ratio = df[\"dti\"].mean()*100\n",
        "print(f\"Debt to income ratio: {debt_inc_ratio:.2f} %\")"
      ],
      "metadata": {
        "id": "HNgtPmwCqp3C",
        "colab": {
          "base_uri": "https://localhost:8080/"
        },
        "outputId": "0bf0ca5f-5d98-4d00-ff8e-1474f8f35cbd"
      },
      "execution_count": 18,
      "outputs": [
        {
          "output_type": "stream",
          "name": "stdout",
          "text": [
            "Debt to income ratio: 13.33 %\n"
          ]
        }
      ]
    },
    {
      "cell_type": "markdown",
      "source": [
        "Good Loan Matrix"
      ],
      "metadata": {
        "id": "FHyH84IBxd5r"
      }
    },
    {
      "cell_type": "code",
      "source": [
        "#Good Loan Dataset\n",
        "good_loan = df[df[\"loan_status\"].isin([\"Fully Paid\", \"Current\"])]\n",
        "\n",
        "total_loan_application = df[\"id\"].count()\n",
        "\n",
        "gl_application = good_loan[\"id\"].count()\n",
        "gl_funded_amount = good_loan[\"loan_amount\"].sum()\n",
        "dl_recieved = good_loan[\"total_payment\"].sum()\n",
        "\n",
        "gl_funded_amount_million = gl_funded_amount / 1000000\n",
        "gl_recieved_million = dl_recieved / 1000000\n",
        "\n",
        "gl_percentage = (gl_application / total_loan_application) * 100\n",
        "\n",
        "print(f\"Total loan application: {total_loan_application}\")\n",
        "print(f\"Good loan application: {gl_application}\")\n",
        "print(f\"Good loan funded amount: ${gl_funded_amount_million}\")\n",
        "print(f\"Good loan recieved: ${gl_recieved_million}\")\n",
        "print(f\"Good loan percentage: {gl_percentage:.2f}%\")"
      ],
      "metadata": {
        "id": "_TECRZCSxdCy",
        "colab": {
          "base_uri": "https://localhost:8080/"
        },
        "outputId": "8c95aef3-4e6a-4468-dce3-d6d82dc4351c"
      },
      "execution_count": 19,
      "outputs": [
        {
          "output_type": "stream",
          "name": "stdout",
          "text": [
            "Total loan application: 38576\n",
            "Good loan application: 33243\n",
            "Good loan funded amount: $370.22485\n",
            "Good loan recieved: $435.78617\n",
            "Good loan percentage: 86.18%\n"
          ]
        }
      ]
    },
    {
      "cell_type": "markdown",
      "source": [
        "Bad Loan Matrix"
      ],
      "metadata": {
        "id": "83CyFxN12KHg"
      }
    },
    {
      "cell_type": "code",
      "source": [
        "#Good Loan Dataset\n",
        "Bad_loan = df[df[\"loan_status\"].isin([\"Charged Off\"])]\n",
        "\n",
        "total_loan_application = df[\"id\"].count()\n",
        "\n",
        "bl_application = Bad_loan[\"id\"].count()\n",
        "bl_funded_amount = Bad_loan[\"loan_amount\"].sum()\n",
        "bl_recieved = Bad_loan[\"total_payment\"].sum()\n",
        "\n",
        "bl_funded_amount_million = bl_funded_amount / 1000000\n",
        "bl_recieved_million = bl_recieved / 1000000\n",
        "\n",
        "bl_percentage = (bl_application / total_loan_application) * 100\n",
        "\n",
        "print(f\"Total loan application: {total_loan_application}\")\n",
        "print(f\"Good loan application: {bl_application}\")\n",
        "print(f\"Good loan funded amount: ${bl_funded_amount_million}\")\n",
        "print(f\"Good loan recieved: ${bl_recieved_million}\")\n",
        "print(f\"Good loan percentage: {bl_percentage:.2f}%\")"
      ],
      "metadata": {
        "id": "lgbB1nnx2Na7",
        "colab": {
          "base_uri": "https://localhost:8080/"
        },
        "outputId": "4f83c7ca-e996-4486-f118-73836e5105f2"
      },
      "execution_count": 20,
      "outputs": [
        {
          "output_type": "stream",
          "name": "stdout",
          "text": [
            "Total loan application: 38576\n",
            "Good loan application: 5333\n",
            "Good loan funded amount: $65.532225\n",
            "Good loan recieved: $37.284763\n",
            "Good loan percentage: 13.82%\n"
          ]
        }
      ]
    },
    {
      "cell_type": "markdown",
      "source": [
        "Charts Requirement"
      ],
      "metadata": {
        "id": "ogPLDvqZ5Ufw"
      }
    },
    {
      "cell_type": "markdown",
      "source": [
        "Regional Analysis by issue date for total funded amount"
      ],
      "metadata": {
        "id": "WnuVIgDq5um9"
      }
    },
    {
      "cell_type": "code",
      "source": [
        "#creating statefunding Dataset\n",
        "state_funding = df.groupby(\"address_state\")[\"loan_amount\"].sum().sort_values(ascending=False)\n",
        "s_f_thsound = state_funding / 1000\n",
        "\n",
        "\n",
        "plt.figure(figsize=(12, 10))\n",
        "sns.barplot(x=s_f_thsound.values, y=s_f_thsound.index, palette=\"viridis\")\n",
        "plt\n",
        "plt.title(\"Regional Analysis by issue date for total funded amount\")\n",
        "plt.xlabel(\"State\")\n",
        "plt.ylabel(\"Total Funded Amount (in thousands)\")\n",
        "\n",
        "plt.show()"
      ],
      "metadata": {
        "id": "iBzkHv7l5Wx9",
        "colab": {
          "base_uri": "https://localhost:8080/",
          "height": 854
        },
        "outputId": "53ddf787-dbbb-49ad-a483-4726372d8969"
      },
      "execution_count": 21,
      "outputs": [
        {
          "output_type": "stream",
          "name": "stderr",
          "text": [
            "/tmp/ipython-input-2413706868.py:7: FutureWarning: \n",
            "\n",
            "Passing `palette` without assigning `hue` is deprecated and will be removed in v0.14.0. Assign the `y` variable to `hue` and set `legend=False` for the same effect.\n",
            "\n",
            "  sns.barplot(x=s_f_thsound.values, y=s_f_thsound.index, palette=\"viridis\")\n"
          ]
        },
        {
          "output_type": "display_data",
          "data": {
            "text/plain": [
              "<Figure size 1200x1000 with 1 Axes>"
            ],
            "image/png": "[encoded data removed]"
          },
          "metadata": {}
        }
      ]
    },
    {
      "cell_type": "markdown",
      "source": [
        "Loan term analysis"
      ],
      "metadata": {
        "id": "K_gE5BqITv47"
      }
    },
    {
      "cell_type": "code",
      "source": [
        "term_fund_million = df.groupby(\"term\")[\"loan_amount\"].sum()/1000000\n",
        "\n",
        "\n",
        "plt.figure(figsize=(12, 10))\n",
        "plt.pie(term_fund_million, labels=term_fund_million.index, autopct='%1.1f%%', startangle=90)\n",
        "plt.title(\"Loan term analysis\")\n",
        "plt.show()"
      ],
      "metadata": {
        "id": "69BzwH6bQ1lx",
        "colab": {
          "base_uri": "https://localhost:8080/",
          "height": 829
        },
        "outputId": "0d792a9b-8862-4cd5-96f4-9e29f7341e0f"
      },
      "execution_count": 24,
      "outputs": [
        {
          "output_type": "display_data",
          "data": {
            "text/plain": [
              "<Figure size 1200x1000 with 1 Axes>"
            ],
            "image/png": "[encoded data removed]"
          },
          "metadata": {}
        }
      ]
    },
    {
      "cell_type": "code",
      "source": [
        "month = df.groupby(\"emp_length\")[\"loan_amount\"].sum()\n",
        "\n",
        "plt.figure(figsize=(12, 10))\n",
        "plt.pie(month, labels=month.index, autopct='%1.1f%%', startangle=90)\n",
        "plt.title(\"Loan amount by employment length\")\n",
        "plt.show()"
      ],
      "metadata": {
        "colab": {
          "base_uri": "https://localhost:8080/",
          "height": 829
        },
        "id": "py8MTLvHRWwP",
        "outputId": "818ea8a3-3f7b-4cc9-92c0-b9c0ec319f5e"
      },
      "execution_count": 27,
      "outputs": [
        {
          "output_type": "display_data",
          "data": {
            "text/plain": [
              "<Figure size 1200x1000 with 1 Axes>"
            ],
            "image/png": "[encoded data removed]"
          },
          "metadata": {}
        }
      ]
    },
    {
      "cell_type": "code",
      "source": [
        "purpous = df.groupby(\"purpose\")[\"total_payment\"].sum()\n",
        "\n",
        "plt.figure(figsize=(12, 10))\n",
        "plt.bar(purpous.index, purpous.values, color='skyblue')\n",
        "plt.xlabel(\"Purpose\")\n",
        "plt.ylabel(\"Total Payment\")\n",
        "plt.title(\"Total Payment by Purpose\")\n",
        "plt.xticks(rotation=45)"
      ],
      "metadata": {
        "colab": {
          "base_uri": "https://localhost:8080/",
          "height": 1000
        },
        "id": "E8ipl41yTQeo",
        "outputId": "f103004c-ef7c-4061-91db-8775b415ecd4"
      },
      "execution_count": 28,
      "outputs": [
        {
          "output_type": "execute_result",
          "data": {
            "text/plain": [
              "([0, 1, 2, 3, 4, 5, 6, 7, 8, 9, 10, 11, 12, 13],\n",
              " [Text(0, 0, 'Debt consolidation'),\n",
              "  Text(1, 0, 'car'),\n",
              "  Text(2, 0, 'credit card'),\n",
              "  Text(3, 0, 'educational'),\n",
              "  Text(4, 0, 'home improvement'),\n",
              "  Text(5, 0, 'house'),\n",
              "  Text(6, 0, 'major purchase'),\n",
              "  Text(7, 0, 'medical'),\n",
              "  Text(8, 0, 'moving'),\n",
              "  Text(9, 0, 'other'),\n",
              "  Text(10, 0, 'renewable_energy'),\n",
              "  Text(11, 0, 'small business'),\n",
              "  Text(12, 0, 'vacation'),\n",
              "  Text(13, 0, 'wedding')])"
            ]
          },
          "metadata": {},
          "execution_count": 28
        },
        {
          "output_type": "display_data",
          "data": {
            "text/plain": [
              "<Figure size 1200x1000 with 1 Axes>"
            ],
            "image/png": "[encoded data removed]"
          },
          "metadata": {}
        }
      ]
    },
    {
      "cell_type": "code",
      "source": [],
      "metadata": {
        "id": "E-Awz05uT-BJ"
      },
      "execution_count": null,
      "outputs": []
    }
  ]
}